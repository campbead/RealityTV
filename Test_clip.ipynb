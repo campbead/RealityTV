{
 "cells": [
  {
   "cell_type": "markdown",
   "metadata": {},
   "source": [
    "This is the start of the processing script.  The purpose of this script is to download the Reality Show video files from  a remote computer, clip them, then delete the local copy of the full video file."
   ]
  },
  {
   "cell_type": "code",
   "execution_count": 9,
   "metadata": {},
   "outputs": [],
   "source": [
    "# load packages\n",
    "\n",
    "from moviepy.video.io.ffmpeg_tools import ffmpeg_extract_subclip\n",
    "from moviepy.editor import VideoFileClip\n",
    "import os"
   ]
  },
  {
   "cell_type": "code",
   "execution_count": 10,
   "metadata": {},
   "outputs": [],
   "source": [
    "# set variables\n",
    "\n",
    "working_directory = '/Users/adamc/Projects/RealityTV/data'\n",
    "file_list = 'singlefile.txt'\n",
    "server_location_file = 'serverlocation.txt'\n",
    "clip_time = 300"
   ]
  },
  {
   "cell_type": "code",
   "execution_count": 11,
   "metadata": {},
   "outputs": [
    {
     "name": "stdout",
     "output_type": "stream",
     "text": [
      "\n",
      "[MoviePy] Running:\n",
      ">>> /Users/adamc/Library/Application Support/imageio/ffmpeg/ffmpeg-osx-v3.2.4 -y -i /Users/adamc/Projects/RealityTV/data/making.it.s01e01.web.x264-tbs.mkv -ss 2258.21 -t 300.00 -vcodec copy -acodec copy /Users/adamc/Projects/RealityTV/data/making.it.s01e01.web_clip.mp4\n",
      "... command successful.\n"
     ]
    },
    {
     "data": {
      "text/plain": [
       "0"
      ]
     },
     "execution_count": 11,
     "metadata": {},
     "output_type": "execute_result"
    }
   ],
   "source": [
    "# get the file \n",
    "f = open(working_directory + '/'+file_list, \"r\")\n",
    "file_name = f.readline()\n",
    "f.close()\n",
    "file_name = file_name.split('\\n')[0]\n",
    "\n",
    "# get the server name\n",
    "f = open(working_directory + '/'+server_location_file, \"r\")\n",
    "server_name = f.readline()\n",
    "f.close()\n",
    "server_name = server_name.split('\\n')[0]\n",
    "#print(file_name)\n",
    "\n",
    "single_quote = \"'\"\n",
    "double_quote = '\"'\n",
    "\n",
    "\n",
    "command = \"scp \" + server_name + \":\" + double_quote +single_quote + file_name + single_quote + double_quote + \" \" + working_directory \n",
    "#print(file_name.split('/')[-1])\n",
    "os.system(command)\n",
    "\n",
    "# do the clip\n",
    "\n",
    "input_video = file_name.split('/')[-1]\n",
    "output_video = \".\".join(input_video.split('.')[:-2]) + '_clip.mp4'\n",
    "\n",
    "#print(output_video)\n",
    "\n",
    "clip = VideoFileClip(working_directory +'/'+ input_video)\n",
    "\n",
    "ffmpeg_extract_subclip(working_directory + '/'+ input_video, clip.duration - clip_time, (clip.duration ), targetname=working_directory +'/'+ output_video)\n",
    "\n",
    "\n",
    "# delete main video\n",
    "os.system('rm ' + working_directory + '/'+ input_video)\n",
    "\n"
   ]
  },
  {
   "cell_type": "code",
   "execution_count": 25,
   "metadata": {},
   "outputs": [
    {
     "name": "stdout",
     "output_type": "stream",
     "text": [
      "making.it.s01e01\n",
      "scenedetect --input /Users/adamc/Projects/RealityTV/data/making.it.s01e01.web_clip.mp4 --output /Users/adamc/Projects/RealityTV/data/making.it.s01e01 detect-content save-images list-scenes\n"
     ]
    },
    {
     "data": {
      "text/plain": [
       "0"
      ]
     },
     "execution_count": 25,
     "metadata": {},
     "output_type": "execute_result"
    }
   ],
   "source": [
    "# run scene detect\n",
    "output_dir = \".\".join(output_video.split('.')[:-2]) \n",
    "print(output_dir)\n",
    "command = \"scenedetect --input \" + working_directory +'/'+ output_video +\" --output \" + working_directory +\"/\" + output_dir + \" detect-content save-images list-scenes\"\n",
    "print(command)\n",
    "os.system(command)\n"
   ]
  },
  {
   "cell_type": "markdown",
   "metadata": {},
   "source": [
    "### "
   ]
  }
 ],
 "metadata": {
  "kernelspec": {
   "display_name": "Python 3",
   "language": "python",
   "name": "python3"
  },
  "language_info": {
   "codemirror_mode": {
    "name": "ipython",
    "version": 3
   },
   "file_extension": ".py",
   "mimetype": "text/x-python",
   "name": "python",
   "nbconvert_exporter": "python",
   "pygments_lexer": "ipython3",
   "version": "3.6.5"
  }
 },
 "nbformat": 4,
 "nbformat_minor": 2
}
