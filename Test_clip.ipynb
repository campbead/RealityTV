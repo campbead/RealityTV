{
 "cells": [
  {
   "cell_type": "code",
   "execution_count": 2,
   "metadata": {},
   "outputs": [
    {
     "name": "stdout",
     "output_type": "stream",
     "text": [
      "2558.21\n",
      "\n",
      "[MoviePy] Running:\n",
      ">>> /Users/adamc/Library/Application Support/imageio/ffmpeg/ffmpeg-osx-v3.2.4 -y -i /Users/adamc/Projects/RealityTV/making.it.s01e01.web.x264-tbs.mkv -ss 2258.21 -t 300.00 -vcodec copy -acodec copy /Users/adamc/Projects/RealityTV/clip.mp4\n",
      "... command successful.\n"
     ]
    }
   ],
   "source": [
    "from moviepy.video.io.ffmpeg_tools import ffmpeg_extract_subclip\n",
    "from moviepy.editor import VideoFileClip\n",
    "\n",
    "\n",
    "\n",
    "\n",
    "\n",
    "\n",
    "working_directory = '/Users/adamc/Projects/RealityTV/'\n",
    "\n",
    "clip_start_min =55\n",
    "clip_end_min = 59\n",
    "\n",
    "input_video = 'making.it.s01e01.web.x264-tbs.mkv'\n",
    "output_video = 'clip.mp4'\n",
    "\n",
    "clip = VideoFileClip(working_directory + input_video)\n",
    "print( clip.duration )\n",
    "\n",
    "ffmpeg_extract_subclip(working_directory + input_video, clip.duration - 300, (clip.duration ), targetname=working_directory + output_video)"
   ]
  },
  {
   "cell_type": "code",
   "execution_count": 1,
   "metadata": {},
   "outputs": [
    {
     "name": "stdout",
     "output_type": "stream",
     "text": [
      "Imageio: 'ffmpeg-osx-v3.2.4' was not found on your computer; downloading it now.\n",
      "Try 1. Download from https://github.com/imageio/imageio-binaries/raw/master/ffmpeg/ffmpeg-osx-v3.2.4 (33.8 MB)\n",
      "Downloading: 8192/35458856 bytes (0.0172032/35458856 bytes (0.5671744/35458856 bytes (1.91081344/35458856 bytes (3.0%1572864/35458856 bytes (4.4%1966080/35458856 bytes (5.5%2506752/35458856 bytes (7.1%3194880/35458856 bytes (9.0%3817472/35458856 bytes (10.84423680/35458856 bytes (12.55079040/35458856 bytes (14.35472256/35458856 bytes (15.46012928/35458856 bytes (17.06422528/35458856 bytes (18.17274496/35458856 bytes (20.57815168/35458856 bytes (22.08683520/35458856 bytes (24.59289728/35458856 bytes (26.210076160/35458856 bytes (28.4%10788864/35458856 bytes (30.4%11419648/35458856 bytes (32.2%11927552/35458856 bytes (33.6%12632064/35458856 bytes (35.6%13377536/35458856 bytes (37.7%14139392/35458856 bytes (39.9%14893056/35458856 bytes (42.0%15695872/35458856 bytes (44.3%16498688/35458856 bytes (46.5%17375232/35458856 bytes (49.0%17776640/35458856 bytes (50.1%18612224/35458856 bytes (52.5%19365888/35458856 bytes (54.6%20185088/35458856 bytes (56.9%20979712/35458856 bytes (59.2%21856256/35458856 bytes (61.6%22380544/35458856 bytes (63.1%23117824/35458856 bytes (65.2%23986176/35458856 bytes (67.6%24920064/35458856 bytes (70.3%25837568/35458856 bytes (72.9%26640384/35458856 bytes (75.1%27181056/35458856 bytes (76.7%27885568/35458856 bytes (78.6%28614656/35458856 bytes (80.7%29433856/35458856 bytes (83.0%30253056/35458856 bytes (85.3%31129600/35458856 bytes (87.8%31981568/35458856 bytes (90.2%32423936/35458856 bytes (91.4%33259520/35458856 bytes (93.8%34062336/35458856 bytes (96.1%34865152/35458856 bytes (98.3%35458856/35458856 bytes (100.0%)\n",
      "  Done\n",
      "File saved as /Users/adamc/Library/Application Support/imageio/ffmpeg/ffmpeg-osx-v3.2.4.\n"
     ]
    }
   ],
   "source": []
  },
  {
   "cell_type": "code",
   "execution_count": 16,
   "metadata": {},
   "outputs": [],
   "source": [
    "working_directory = '/Users/adamc/Projects/RealityTV/data'\n",
    "\n",
    "file_list = 'singlefile.txt'\n",
    "server_location_file = 'serverlocation.txt'\n",
    "clip_start_min = 55\n",
    "clip_end_min = 59\n",
    "\n",
    "\n",
    "# get the file \n",
    "f = open(working_directory + '/'+file_list, \"r\")\n",
    "file_name = f.readline()\n",
    "f.close()\n",
    "file_name = file_name.split('\\n')[0]\n",
    "\n",
    "# get the server name\n",
    "f = open(working_directory + '/'+server_location_file, \"r\")\n",
    "server_name = f.readline()\n",
    "f.close()\n",
    "server_name = server_name.split('\\n')[0]\n",
    "#print(file_name)\n",
    "\n",
    "single_quote = \"'\"\n",
    "double_quote = '\"'\n",
    "\n",
    "import os\n",
    "command = \"scp \" + server_name + \":\" + double_quote +single_quote + file_name + single_quote + double_quote + \" \" + working_directory \n",
    "\n",
    "#os.system(command)"
   ]
  },
  {
   "cell_type": "code",
   "execution_count": 11,
   "metadata": {},
   "outputs": [
    {
     "data": {
      "text/plain": [
       "'osmc@192.168.0.137'"
      ]
     },
     "execution_count": 11,
     "metadata": {},
     "output_type": "execute_result"
    }
   ],
   "source": []
  },
  {
   "cell_type": "code",
   "execution_count": null,
   "metadata": {},
   "outputs": [],
   "source": []
  }
 ],
 "metadata": {
  "kernelspec": {
   "display_name": "Python 3",
   "language": "python",
   "name": "python3"
  },
  "language_info": {
   "codemirror_mode": {
    "name": "ipython",
    "version": 3
   },
   "file_extension": ".py",
   "mimetype": "text/x-python",
   "name": "python",
   "nbconvert_exporter": "python",
   "pygments_lexer": "ipython3",
   "version": "3.6.5"
  }
 },
 "nbformat": 4,
 "nbformat_minor": 2
}
